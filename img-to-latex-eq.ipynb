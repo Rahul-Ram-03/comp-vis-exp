{
 "cells": [
  {
   "cell_type": "code",
   "execution_count": 1,
   "id": "4d7362d3",
   "metadata": {},
   "outputs": [],
   "source": [
    "import matplotlib.pyplot as plt\n",
    "import cv2\n",
    "import torch.nn as N\n",
    "from torchinfo import summary\n",
    "import torch\n",
    "from torch.utils.data import DataLoader, Dataset\n",
    "from torchvision.transforms.v2 import Compose, Resize, ToImage, ToDtype\n",
    "import pandas as pd\n",
    "from torcheval.metrics import MulticlassAccuracy\n",
    "from torchvision.models import resnet50, ResNet50_Weights\n",
    "from IPython.display import clear_output\n",
    "import math\n",
    "import numpy as np"
   ]
  },
  {
   "cell_type": "markdown",
   "id": "b955f0d4",
   "metadata": {},
   "source": [
    "## Hyper params."
   ]
  },
  {
   "cell_type": "code",
   "execution_count": 2,
   "id": "615405cc",
   "metadata": {},
   "outputs": [],
   "source": [
    "batchSize = 16\n",
    "inChannels = 3\n",
    "inputDims = (batchSize, inChannels, 256, 256)\n",
    "patchDims = (2, 2)\n",
    "maxSeqLen = 128\n",
    "\n",
    "resnetOutputChannels = 1024\n",
    "resnetOutputDims = (inputDims[-2]//16, inputDims[-1]//16)\n",
    "numPatches = (resnetOutputDims[0] * resnetOutputDims[1]) // (patchDims[0] * patchDims[1])\n",
    "\n",
    "ffDim = 1024\n",
    "nHeads = 4\n",
    "nLayers = 4\n",
    "dropout = 0.1\n",
    "\n",
    "epochs = 5\n",
    "lr = 9e-5\n",
    "\n",
    "vocabSize = -1\n",
    "transforms = [Resize((inputDims[-2], inputDims[-1]))]\n",
    "device = torch.device(\"cuda\" if torch.cuda.is_available() else \"cpu\")"
   ]
  },
  {
   "cell_type": "code",
   "execution_count": 3,
   "id": "d10a4c34",
   "metadata": {},
   "outputs": [],
   "source": [
    "INPUT_PARENT_DIR = \"/repos/pytorch-basics/datasets/crohme/IMG/\"\n",
    "GROUND_TRUTH_DIR = \"/repos/pytorch-basics/datasets/crohme/groundtruth/\"\n",
    "VOCAB_FILE = \"/repos/pytorch-basics/datasets/crohme/groundtruth/symbols.txt\"\n",
    "MODEL_SAVEFILE_PATH = \"./models/MathEqGen.pt\""
   ]
  },
  {
   "cell_type": "markdown",
   "id": "0f6ca745",
   "metadata": {},
   "source": [
    "### Custom tokenizer"
   ]
  },
  {
   "cell_type": "code",
   "execution_count": 4,
   "id": "8e9adb57",
   "metadata": {},
   "outputs": [],
   "source": [
    "class CustomTokenizer():\n",
    "\tdef __init__(self, vocabFile, maxSeqLen, start_token, end_token, pad_token, unk_token):\n",
    "\t\tself.vocab: dict = {}\n",
    "\t\tself.reverseVocab: dict = {}\n",
    "\t\tself.unk_token = unk_token\n",
    "\t\tself.start_token = start_token\n",
    "\t\tself.end_token = end_token\n",
    "\t\tself.pad_token = pad_token\n",
    "\t\tself.maxSeqLen = maxSeqLen\n",
    "\t\t\n",
    "\t\ti = 0\n",
    "\t\twith open(vocabFile, 'r') as f:\n",
    "\t\t\tfor line in f.readlines():\n",
    "\t\t\t\tself.vocab[line.strip(\"\\n\")] = i\n",
    "\t\t\t\tself.reverseVocab[i] = line.strip(\"\\n\")\n",
    "\t\t\t\ti += 1\n",
    "\t\n",
    "\tdef tokenize(self, input: str) -> list[str] :\n",
    "\t\twordsInVocab = list(self.vocab.keys())\n",
    "\t\ttokens = []\n",
    "\t\ti = 0\n",
    "\t\twhile i < len(input):\n",
    "\t\t\tmatch_found = False\n",
    "\t\t\t# Try to match the longest possible symbol in the vocabulary\n",
    "\t\t\tfor symbol in sorted(wordsInVocab, key=len, reverse=True):\n",
    "\t\t\t\tif input[i:i+len(symbol)] == symbol:\n",
    "\t\t\t\t\ttokens.append(symbol)\n",
    "\t\t\t\t\ti += len(symbol)\n",
    "\t\t\t\t\tmatch_found = True\n",
    "\t\t\t\t\tbreak\n",
    "\t\t\tif not match_found:\n",
    "\t\t\t\ttokens.append(self.unk_token)\n",
    "\t\t\t\ti += 1\n",
    "\t\ttokens = [self.start_token] + tokens + [self.end_token]\n",
    "\t\treturn tokens\n",
    "\t\n",
    "\tdef tokensToIds(self, tokens: list[str]) -> list[int] :\n",
    "\t\tidsList = []\n",
    "\t\tfor token in tokens:\n",
    "\t\t\tidsList.append(self.vocab[token])\n",
    "\t\t\n",
    "\t\treturn idsList\n",
    "\t\n",
    "\tdef padTokens(self, tokens: list[str]) -> list[str]:\t\t\n",
    "\t\ttokensLength = len(tokens)\n",
    "\t\tif(tokensLength > self.maxSeqLen):\n",
    "\t\t\treturn tokens[:self.maxSeqLen - 1] + [self.end_token]\n",
    "\n",
    "\t\ttokens = tokens + [self.pad_token] * (self.maxSeqLen - tokensLength)\n",
    "\t\treturn tokens\n",
    "\t\n",
    "\tdef idsToTokens(self, ids: list[int]) -> list[str] :\n",
    "\t\ttokens = []\n",
    "\t\tfor id in ids:\n",
    "\t\t\ttoken = self.reverseVocab[id]\n",
    "\t\t\ttokens.append(token)\n",
    "\n",
    "\t\treturn tokens\n",
    "\t\n",
    "\tdef getVocabSize(self) -> int :\n",
    "\t\treturn len(self.vocab)"
   ]
  },
  {
   "cell_type": "markdown",
   "id": "c69d0671",
   "metadata": {},
   "source": [
    "### Dataset class"
   ]
  },
  {
   "cell_type": "code",
   "execution_count": 5,
   "id": "aef352db",
   "metadata": {},
   "outputs": [],
   "source": [
    "class CROHMEDataset(Dataset):\n",
    "\tdef __init__(self, mode, transforms, tokenizer):\n",
    "\t\tsuper(CROHMEDataset, self).__init__()\n",
    "\t\tself.transforms = transforms\n",
    "\t\tgroundTruthFile: str = GROUND_TRUTH_DIR + mode + \".csv\"\n",
    "\t\tself.files: pd.DataFrame = pd.read_csv(groundTruthFile)\n",
    "\t\tself.tokenizer = tokenizer\n",
    "\n",
    "\tdef __len__(self):\n",
    "\t\treturn self.files.shape[0]\n",
    "\t\n",
    "\tdef __getitem__(self, index):\n",
    "\t\tinputPath, groundTruth = self.files.iloc[index]\n",
    "\t\tinputPath = inputPath.removesuffix(\".inkml\") + \".png\"\n",
    "\n",
    "\t\tgroundTruth: str = groundTruth.strip('\"').replace(\"{\", \"\\\\{\").replace(\"}\", \"\\\\}\")\n",
    "\t\tequation = groundTruth\n",
    "\n",
    "\t\timage = cv2.imread(INPUT_PARENT_DIR + inputPath, cv2.IMREAD_UNCHANGED)\n",
    "\t\tif len(image.shape) == 2:\n",
    "\t\t\timage = cv2.cvtColor(image, cv2.COLOR_GRAY2RGB)\n",
    "\n",
    "\t\tinput = Compose([ToImage(), ToDtype(torch.float32, scale=True)])(image)\n",
    "\t\t\n",
    "\t\tfor transform in self.transforms:\n",
    "\t\t\tinput = transform(input)\n",
    "\n",
    "\t\tgroundTruthTokens = self.tokenizer.tokenize(groundTruth)\n",
    "\t\tgroundTruthTokens = self.tokenizer.padTokens(groundTruthTokens)\n",
    "\t\tgroundTruthIds = self.tokenizer.tokensToIds(groundTruthTokens)\n",
    "\t\tgroundTruthIds = torch.LongTensor(groundTruthIds)\n",
    "\n",
    "\t\t# eq. and inputPath are also returned for debugging purposes\n",
    "\t\treturn (input, groundTruthIds, equation, inputPath)"
   ]
  },
  {
   "cell_type": "markdown",
   "id": "97eed776",
   "metadata": {},
   "source": [
    "### Dataloader"
   ]
  },
  {
   "cell_type": "code",
   "execution_count": 6,
   "id": "10938ab3",
   "metadata": {},
   "outputs": [],
   "source": [
    "tokenizer = CustomTokenizer(VOCAB_FILE, maxSeqLen, \"[SOS]\", \"[EOS]\", \"[PAD]\", \"[UNK]\")\n",
    "vocabSize = tokenizer.getVocabSize()\n",
    "\n",
    "trainData = CROHMEDataset('train', transforms, tokenizer)\n",
    "testData = CROHMEDataset('test', transforms, tokenizer)\n",
    "valData = CROHMEDataset('val', transforms, tokenizer)\n",
    "\n",
    "trainDataLoader = DataLoader(trainData, batch_size= batchSize\n",
    "\t\t\t\t\t\t\t , shuffle= True, drop_last= True)\n",
    "testDataLoader = DataLoader(testData, batch_size= 1\n",
    "\t\t\t\t\t\t\t , shuffle= True, drop_last= True)\n",
    "# valDataLoader = DataLoader(valData, batch_size= batchSize\n",
    "# \t\t\t\t\t\t\t , shuffle= True, drop_last= True)"
   ]
  },
  {
   "cell_type": "markdown",
   "id": "19ef6be1",
   "metadata": {},
   "source": [
    "### Feature extractor"
   ]
  },
  {
   "cell_type": "code",
   "execution_count": 7,
   "id": "7591efca",
   "metadata": {},
   "outputs": [],
   "source": [
    "class FeatureExtractor(N.Module):\n",
    "\tdef __init__(self, featExOutputChannels, ffDim, patchDims):\n",
    "\t\tsuper(FeatureExtractor, self).__init__()\n",
    "\t\tself.featEx = N.Sequential(*(list(\n",
    "\t\t\t\t\t\tresnet50(ResNet50_Weights.IMAGENET1K_V2).children()\n",
    "\t\t\t\t\t)[0:-3]))\n",
    "\t\tself.convProj = N.Conv2d(in_channels= featExOutputChannels, out_channels= ffDim,\n",
    "\t\t\t\t\t\t   \t\t kernel_size= patchDims, stride= patchDims)\n",
    "\n",
    "\t\tfor param in self.featEx.parameters():\n",
    "\t\t\tparam.requires_grad = False\n",
    "\n",
    "\tdef forward(self, input):\n",
    "\t\tfeatures = self.featEx(input)\n",
    "\t\toutput: torch.Tensor = self.convProj(features)\n",
    "\t\treturn output.flatten(2,3)"
   ]
  },
  {
   "cell_type": "markdown",
   "id": "1a6b02fe",
   "metadata": {},
   "source": [
    "### Vision encoder"
   ]
  },
  {
   "cell_type": "code",
   "execution_count": 8,
   "id": "5ee59ec9",
   "metadata": {},
   "outputs": [],
   "source": [
    "class VisionEncoder(N.Module):\n",
    "\tdef __init__(self, numPatches: int, \n",
    "\t\t\t  batchSize: int, dModel: int, nLayers: int,\n",
    "\t\t\t  nHeads: int, dropout: int= 0.1):\n",
    "\t\tsuper(VisionEncoder, self).__init__()\n",
    "\t\tencoderLayer = N.TransformerEncoderLayer(d_model= dModel, nhead= nHeads,\n",
    "\t\t\t\t\t\t\t\t\t\t   dim_feedforward= ffDim, dropout= dropout,\n",
    "\t\t\t\t\t\t\t\t\t\t   batch_first= True)\n",
    "\t\t\n",
    "\t\tself.posEmb = N.Parameter(torch.zeros(1,\n",
    "\t\t\t\t\t\t\t\t\t\tdModel, numPatches))\n",
    "\t\tself.transformerEncoder = N.TransformerEncoder(encoder_layer= encoderLayer, \n",
    "\t\t\t\t\t\t\t\t\t\t\t\t num_layers= nLayers)\n",
    "\tdef forward(self, input):\n",
    "\t\tembs = input + self.posEmb\n",
    "\t\toutput = self.transformerEncoder(embs.transpose(1,2))\n",
    "\n",
    "\t\treturn output"
   ]
  },
  {
   "cell_type": "markdown",
   "id": "dc730d6e",
   "metadata": {},
   "source": [
    "### Decoder"
   ]
  },
  {
   "cell_type": "code",
   "execution_count": 9,
   "id": "d5d6140e",
   "metadata": {},
   "outputs": [],
   "source": [
    "class Decoder(N.Module):\n",
    "\tclass PositionalEmbedding(N.Module):\n",
    "\t\tdef __init__(self, dModel):\n",
    "\t\t\tsuper().__init__()\n",
    "\t\t\tself.dModel = dModel\n",
    "\n",
    "\t\tdef forward(self, input):\n",
    "\t\t\temb = math.log(10000) / (self.dModel // 2 - 1)\n",
    "\t\t\temb = torch.exp(torch.arange(self.dModel // 2) * -emb)\n",
    "\t\t\temb = input[:, None] * emb[None, :]\n",
    "\t\t\temb = torch.cat((emb.sin(), emb.cos()), dim=-1)\n",
    "\t\t\treturn emb\n",
    "\n",
    "\tdef __init__(self, dModel: int, nHeads: int, nLayers: int, \n",
    "\t\t\t  ffDim: int, maxSeqLen: int, dropout: int= 0.1):\n",
    "\t\tsuper(Decoder, self).__init__()\n",
    "\t\tdecoderLayer = N.TransformerDecoderLayer(d_model= dModel, nhead= nHeads,\n",
    "\t\t\t\t\t\t\t\t\t\t   dim_feedforward= ffDim, dropout= dropout,\n",
    "\t\t\t\t\t\t\t\t\t\t   batch_first= True)\n",
    "\t\t\n",
    "\t\tself.transformerDecoder = N.TransformerDecoder(decoder_layer= decoderLayer,\n",
    "\t\t\t\t\t\t\t\t\t\t\t\t num_layers= nLayers)\n",
    "\t\tself.embeddings = N.Embedding(num_embeddings= maxSeqLen, embedding_dim= dModel)\n",
    "\t\tself.posEmb = self.PositionalEmbedding(dModel= dModel)\n",
    "\n",
    "\tdef forward(self, tgt, encOutput, tgt_padding_mask= None, mode= \"train\"):\t\t\n",
    "\t\ttgtEmbs = self.embeddings(tgt)\n",
    "\t\tbs, l, h = tgtEmbs.shape\n",
    "\n",
    "\t\tseqIdx = torch.arange(l)\n",
    "\t\tposEmb = self.posEmb(seqIdx).reshape(1, l, h).expand(bs, l, h).cuda()\n",
    "\t\tembs = tgtEmbs + posEmb\n",
    "\n",
    "\t\tcausalMask = torch.triu(torch.ones(l, l), 1).bool().cuda()\n",
    "\t\t\n",
    "\t\tif(mode == \"debug\"):\n",
    "\t\t\tprint(f\"embs.shape: {embs.shape}\")\n",
    "\t\t\n",
    "\t\toutput = self.transformerDecoder(tgt= embs, memory= encOutput,\n",
    "\t\t\t\t\t\t\t\t   \t\t tgt_mask= causalMask, \n",
    "\t\t\t\t\t\t\t\t\t\t tgt_key_padding_mask= tgt_padding_mask)\n",
    "\t\t\n",
    "\t\treturn output"
   ]
  },
  {
   "cell_type": "markdown",
   "id": "e8b3fe4c",
   "metadata": {},
   "source": [
    "### Model definition"
   ]
  },
  {
   "cell_type": "code",
   "execution_count": 10,
   "id": "f3e2928b",
   "metadata": {},
   "outputs": [],
   "source": [
    "class Model(N.Module):\n",
    "\tdef __init__(self, patchDims: tuple, batchSize: int, \n",
    "\t\t\t  \t nHeads: int, nLayers: int, ffDim: int, \n",
    "\t\t\t  \t dModel: int, numPatches: int, maxSeqLen: int,\n",
    "\t\t\t\t vocabSize: int = -1, dropout: float = 0.1):\n",
    "\t\tsuper(Model, self).__init__()\n",
    "\n",
    "\t\tif(vocabSize <= 1):\n",
    "\t\t\traise ValueError(f\"Invalid vocabulary size; Must be greater than 1, got {vocabSize}\")\n",
    "\n",
    "\t\tself.featEx = FeatureExtractor(dModel, ffDim, patchDims)\n",
    "\t\tself.visEnc = VisionEncoder(numPatches, batchSize, dModel,\n",
    "\t\t\t\t\t\t\t  \t\tnLayers, nHeads, dropout)\n",
    "\t\tself.decoder = Decoder(dModel, nHeads, nLayers,\n",
    "\t\t\t\t\t\t \t   ffDim, maxSeqLen, dropout)\n",
    "\t\tself.fcOut = N.Linear(dModel, vocabSize)\n",
    "\t\tself.softmax = N.Softmax(dim= -1)\n",
    "\n",
    "\tdef forward(self, src, tgt, tgt_padding_mask, mode= \"train\"):\n",
    "\t\tfeatExOutput = self.featEx(src)\n",
    "\t\tvisEncOutput = self.visEnc(featExOutput)\n",
    "\t\t\n",
    "\t\tif(mode == \"debug\"):\n",
    "\t\t\tprint(f\"tgt.shape: {tgt.shape}, visEncOutput.shape: {visEncOutput.shape}\")\n",
    "\t\t\n",
    "\t\tdecoderOutput = self.decoder(tgt, visEncOutput, tgt_padding_mask, mode)\n",
    "\t\toutput = self.fcOut(decoderOutput)\n",
    "\t\t# output = self.softmax(output)\n",
    "\n",
    "\t\treturn output\n"
   ]
  },
  {
   "cell_type": "markdown",
   "id": "4eca5d95",
   "metadata": {},
   "source": [
    "### Model instantiation"
   ]
  },
  {
   "cell_type": "code",
   "execution_count": 11,
   "id": "debc8893",
   "metadata": {},
   "outputs": [
    {
     "name": "stderr",
     "output_type": "stream",
     "text": [
      "/home/home-pc/miniconda3/envs/pytorch-basics/lib/python3.12/site-packages/torchvision/models/_utils.py:135: UserWarning: Using 'weights' as positional parameter(s) is deprecated since 0.13 and may be removed in the future. Please use keyword parameter(s) instead.\n",
      "  warnings.warn(\n"
     ]
    },
    {
     "data": {
      "text/plain": [
       "Model(\n",
       "  (featEx): FeatureExtractor(\n",
       "    (featEx): Sequential(\n",
       "      (0): Conv2d(3, 64, kernel_size=(7, 7), stride=(2, 2), padding=(3, 3), bias=False)\n",
       "      (1): BatchNorm2d(64, eps=1e-05, momentum=0.1, affine=True, track_running_stats=True)\n",
       "      (2): ReLU(inplace=True)\n",
       "      (3): MaxPool2d(kernel_size=3, stride=2, padding=1, dilation=1, ceil_mode=False)\n",
       "      (4): Sequential(\n",
       "        (0): Bottleneck(\n",
       "          (conv1): Conv2d(64, 64, kernel_size=(1, 1), stride=(1, 1), bias=False)\n",
       "          (bn1): BatchNorm2d(64, eps=1e-05, momentum=0.1, affine=True, track_running_stats=True)\n",
       "          (conv2): Conv2d(64, 64, kernel_size=(3, 3), stride=(1, 1), padding=(1, 1), bias=False)\n",
       "          (bn2): BatchNorm2d(64, eps=1e-05, momentum=0.1, affine=True, track_running_stats=True)\n",
       "          (conv3): Conv2d(64, 256, kernel_size=(1, 1), stride=(1, 1), bias=False)\n",
       "          (bn3): BatchNorm2d(256, eps=1e-05, momentum=0.1, affine=True, track_running_stats=True)\n",
       "          (relu): ReLU(inplace=True)\n",
       "          (downsample): Sequential(\n",
       "            (0): Conv2d(64, 256, kernel_size=(1, 1), stride=(1, 1), bias=False)\n",
       "            (1): BatchNorm2d(256, eps=1e-05, momentum=0.1, affine=True, track_running_stats=True)\n",
       "          )\n",
       "        )\n",
       "        (1): Bottleneck(\n",
       "          (conv1): Conv2d(256, 64, kernel_size=(1, 1), stride=(1, 1), bias=False)\n",
       "          (bn1): BatchNorm2d(64, eps=1e-05, momentum=0.1, affine=True, track_running_stats=True)\n",
       "          (conv2): Conv2d(64, 64, kernel_size=(3, 3), stride=(1, 1), padding=(1, 1), bias=False)\n",
       "          (bn2): BatchNorm2d(64, eps=1e-05, momentum=0.1, affine=True, track_running_stats=True)\n",
       "          (conv3): Conv2d(64, 256, kernel_size=(1, 1), stride=(1, 1), bias=False)\n",
       "          (bn3): BatchNorm2d(256, eps=1e-05, momentum=0.1, affine=True, track_running_stats=True)\n",
       "          (relu): ReLU(inplace=True)\n",
       "        )\n",
       "        (2): Bottleneck(\n",
       "          (conv1): Conv2d(256, 64, kernel_size=(1, 1), stride=(1, 1), bias=False)\n",
       "          (bn1): BatchNorm2d(64, eps=1e-05, momentum=0.1, affine=True, track_running_stats=True)\n",
       "          (conv2): Conv2d(64, 64, kernel_size=(3, 3), stride=(1, 1), padding=(1, 1), bias=False)\n",
       "          (bn2): BatchNorm2d(64, eps=1e-05, momentum=0.1, affine=True, track_running_stats=True)\n",
       "          (conv3): Conv2d(64, 256, kernel_size=(1, 1), stride=(1, 1), bias=False)\n",
       "          (bn3): BatchNorm2d(256, eps=1e-05, momentum=0.1, affine=True, track_running_stats=True)\n",
       "          (relu): ReLU(inplace=True)\n",
       "        )\n",
       "      )\n",
       "      (5): Sequential(\n",
       "        (0): Bottleneck(\n",
       "          (conv1): Conv2d(256, 128, kernel_size=(1, 1), stride=(1, 1), bias=False)\n",
       "          (bn1): BatchNorm2d(128, eps=1e-05, momentum=0.1, affine=True, track_running_stats=True)\n",
       "          (conv2): Conv2d(128, 128, kernel_size=(3, 3), stride=(2, 2), padding=(1, 1), bias=False)\n",
       "          (bn2): BatchNorm2d(128, eps=1e-05, momentum=0.1, affine=True, track_running_stats=True)\n",
       "          (conv3): Conv2d(128, 512, kernel_size=(1, 1), stride=(1, 1), bias=False)\n",
       "          (bn3): BatchNorm2d(512, eps=1e-05, momentum=0.1, affine=True, track_running_stats=True)\n",
       "          (relu): ReLU(inplace=True)\n",
       "          (downsample): Sequential(\n",
       "            (0): Conv2d(256, 512, kernel_size=(1, 1), stride=(2, 2), bias=False)\n",
       "            (1): BatchNorm2d(512, eps=1e-05, momentum=0.1, affine=True, track_running_stats=True)\n",
       "          )\n",
       "        )\n",
       "        (1): Bottleneck(\n",
       "          (conv1): Conv2d(512, 128, kernel_size=(1, 1), stride=(1, 1), bias=False)\n",
       "          (bn1): BatchNorm2d(128, eps=1e-05, momentum=0.1, affine=True, track_running_stats=True)\n",
       "          (conv2): Conv2d(128, 128, kernel_size=(3, 3), stride=(1, 1), padding=(1, 1), bias=False)\n",
       "          (bn2): BatchNorm2d(128, eps=1e-05, momentum=0.1, affine=True, track_running_stats=True)\n",
       "          (conv3): Conv2d(128, 512, kernel_size=(1, 1), stride=(1, 1), bias=False)\n",
       "          (bn3): BatchNorm2d(512, eps=1e-05, momentum=0.1, affine=True, track_running_stats=True)\n",
       "          (relu): ReLU(inplace=True)\n",
       "        )\n",
       "        (2): Bottleneck(\n",
       "          (conv1): Conv2d(512, 128, kernel_size=(1, 1), stride=(1, 1), bias=False)\n",
       "          (bn1): BatchNorm2d(128, eps=1e-05, momentum=0.1, affine=True, track_running_stats=True)\n",
       "          (conv2): Conv2d(128, 128, kernel_size=(3, 3), stride=(1, 1), padding=(1, 1), bias=False)\n",
       "          (bn2): BatchNorm2d(128, eps=1e-05, momentum=0.1, affine=True, track_running_stats=True)\n",
       "          (conv3): Conv2d(128, 512, kernel_size=(1, 1), stride=(1, 1), bias=False)\n",
       "          (bn3): BatchNorm2d(512, eps=1e-05, momentum=0.1, affine=True, track_running_stats=True)\n",
       "          (relu): ReLU(inplace=True)\n",
       "        )\n",
       "        (3): Bottleneck(\n",
       "          (conv1): Conv2d(512, 128, kernel_size=(1, 1), stride=(1, 1), bias=False)\n",
       "          (bn1): BatchNorm2d(128, eps=1e-05, momentum=0.1, affine=True, track_running_stats=True)\n",
       "          (conv2): Conv2d(128, 128, kernel_size=(3, 3), stride=(1, 1), padding=(1, 1), bias=False)\n",
       "          (bn2): BatchNorm2d(128, eps=1e-05, momentum=0.1, affine=True, track_running_stats=True)\n",
       "          (conv3): Conv2d(128, 512, kernel_size=(1, 1), stride=(1, 1), bias=False)\n",
       "          (bn3): BatchNorm2d(512, eps=1e-05, momentum=0.1, affine=True, track_running_stats=True)\n",
       "          (relu): ReLU(inplace=True)\n",
       "        )\n",
       "      )\n",
       "      (6): Sequential(\n",
       "        (0): Bottleneck(\n",
       "          (conv1): Conv2d(512, 256, kernel_size=(1, 1), stride=(1, 1), bias=False)\n",
       "          (bn1): BatchNorm2d(256, eps=1e-05, momentum=0.1, affine=True, track_running_stats=True)\n",
       "          (conv2): Conv2d(256, 256, kernel_size=(3, 3), stride=(2, 2), padding=(1, 1), bias=False)\n",
       "          (bn2): BatchNorm2d(256, eps=1e-05, momentum=0.1, affine=True, track_running_stats=True)\n",
       "          (conv3): Conv2d(256, 1024, kernel_size=(1, 1), stride=(1, 1), bias=False)\n",
       "          (bn3): BatchNorm2d(1024, eps=1e-05, momentum=0.1, affine=True, track_running_stats=True)\n",
       "          (relu): ReLU(inplace=True)\n",
       "          (downsample): Sequential(\n",
       "            (0): Conv2d(512, 1024, kernel_size=(1, 1), stride=(2, 2), bias=False)\n",
       "            (1): BatchNorm2d(1024, eps=1e-05, momentum=0.1, affine=True, track_running_stats=True)\n",
       "          )\n",
       "        )\n",
       "        (1): Bottleneck(\n",
       "          (conv1): Conv2d(1024, 256, kernel_size=(1, 1), stride=(1, 1), bias=False)\n",
       "          (bn1): BatchNorm2d(256, eps=1e-05, momentum=0.1, affine=True, track_running_stats=True)\n",
       "          (conv2): Conv2d(256, 256, kernel_size=(3, 3), stride=(1, 1), padding=(1, 1), bias=False)\n",
       "          (bn2): BatchNorm2d(256, eps=1e-05, momentum=0.1, affine=True, track_running_stats=True)\n",
       "          (conv3): Conv2d(256, 1024, kernel_size=(1, 1), stride=(1, 1), bias=False)\n",
       "          (bn3): BatchNorm2d(1024, eps=1e-05, momentum=0.1, affine=True, track_running_stats=True)\n",
       "          (relu): ReLU(inplace=True)\n",
       "        )\n",
       "        (2): Bottleneck(\n",
       "          (conv1): Conv2d(1024, 256, kernel_size=(1, 1), stride=(1, 1), bias=False)\n",
       "          (bn1): BatchNorm2d(256, eps=1e-05, momentum=0.1, affine=True, track_running_stats=True)\n",
       "          (conv2): Conv2d(256, 256, kernel_size=(3, 3), stride=(1, 1), padding=(1, 1), bias=False)\n",
       "          (bn2): BatchNorm2d(256, eps=1e-05, momentum=0.1, affine=True, track_running_stats=True)\n",
       "          (conv3): Conv2d(256, 1024, kernel_size=(1, 1), stride=(1, 1), bias=False)\n",
       "          (bn3): BatchNorm2d(1024, eps=1e-05, momentum=0.1, affine=True, track_running_stats=True)\n",
       "          (relu): ReLU(inplace=True)\n",
       "        )\n",
       "        (3): Bottleneck(\n",
       "          (conv1): Conv2d(1024, 256, kernel_size=(1, 1), stride=(1, 1), bias=False)\n",
       "          (bn1): BatchNorm2d(256, eps=1e-05, momentum=0.1, affine=True, track_running_stats=True)\n",
       "          (conv2): Conv2d(256, 256, kernel_size=(3, 3), stride=(1, 1), padding=(1, 1), bias=False)\n",
       "          (bn2): BatchNorm2d(256, eps=1e-05, momentum=0.1, affine=True, track_running_stats=True)\n",
       "          (conv3): Conv2d(256, 1024, kernel_size=(1, 1), stride=(1, 1), bias=False)\n",
       "          (bn3): BatchNorm2d(1024, eps=1e-05, momentum=0.1, affine=True, track_running_stats=True)\n",
       "          (relu): ReLU(inplace=True)\n",
       "        )\n",
       "        (4): Bottleneck(\n",
       "          (conv1): Conv2d(1024, 256, kernel_size=(1, 1), stride=(1, 1), bias=False)\n",
       "          (bn1): BatchNorm2d(256, eps=1e-05, momentum=0.1, affine=True, track_running_stats=True)\n",
       "          (conv2): Conv2d(256, 256, kernel_size=(3, 3), stride=(1, 1), padding=(1, 1), bias=False)\n",
       "          (bn2): BatchNorm2d(256, eps=1e-05, momentum=0.1, affine=True, track_running_stats=True)\n",
       "          (conv3): Conv2d(256, 1024, kernel_size=(1, 1), stride=(1, 1), bias=False)\n",
       "          (bn3): BatchNorm2d(1024, eps=1e-05, momentum=0.1, affine=True, track_running_stats=True)\n",
       "          (relu): ReLU(inplace=True)\n",
       "        )\n",
       "        (5): Bottleneck(\n",
       "          (conv1): Conv2d(1024, 256, kernel_size=(1, 1), stride=(1, 1), bias=False)\n",
       "          (bn1): BatchNorm2d(256, eps=1e-05, momentum=0.1, affine=True, track_running_stats=True)\n",
       "          (conv2): Conv2d(256, 256, kernel_size=(3, 3), stride=(1, 1), padding=(1, 1), bias=False)\n",
       "          (bn2): BatchNorm2d(256, eps=1e-05, momentum=0.1, affine=True, track_running_stats=True)\n",
       "          (conv3): Conv2d(256, 1024, kernel_size=(1, 1), stride=(1, 1), bias=False)\n",
       "          (bn3): BatchNorm2d(1024, eps=1e-05, momentum=0.1, affine=True, track_running_stats=True)\n",
       "          (relu): ReLU(inplace=True)\n",
       "        )\n",
       "      )\n",
       "    )\n",
       "    (convProj): Conv2d(1024, 1024, kernel_size=(2, 2), stride=(2, 2))\n",
       "  )\n",
       "  (visEnc): VisionEncoder(\n",
       "    (transformerEncoder): TransformerEncoder(\n",
       "      (layers): ModuleList(\n",
       "        (0-3): 4 x TransformerEncoderLayer(\n",
       "          (self_attn): MultiheadAttention(\n",
       "            (out_proj): NonDynamicallyQuantizableLinear(in_features=1024, out_features=1024, bias=True)\n",
       "          )\n",
       "          (linear1): Linear(in_features=1024, out_features=1024, bias=True)\n",
       "          (dropout): Dropout(p=0.1, inplace=False)\n",
       "          (linear2): Linear(in_features=1024, out_features=1024, bias=True)\n",
       "          (norm1): LayerNorm((1024,), eps=1e-05, elementwise_affine=True)\n",
       "          (norm2): LayerNorm((1024,), eps=1e-05, elementwise_affine=True)\n",
       "          (dropout1): Dropout(p=0.1, inplace=False)\n",
       "          (dropout2): Dropout(p=0.1, inplace=False)\n",
       "        )\n",
       "      )\n",
       "    )\n",
       "  )\n",
       "  (decoder): Decoder(\n",
       "    (transformerDecoder): TransformerDecoder(\n",
       "      (layers): ModuleList(\n",
       "        (0-3): 4 x TransformerDecoderLayer(\n",
       "          (self_attn): MultiheadAttention(\n",
       "            (out_proj): NonDynamicallyQuantizableLinear(in_features=1024, out_features=1024, bias=True)\n",
       "          )\n",
       "          (multihead_attn): MultiheadAttention(\n",
       "            (out_proj): NonDynamicallyQuantizableLinear(in_features=1024, out_features=1024, bias=True)\n",
       "          )\n",
       "          (linear1): Linear(in_features=1024, out_features=1024, bias=True)\n",
       "          (dropout): Dropout(p=0.1, inplace=False)\n",
       "          (linear2): Linear(in_features=1024, out_features=1024, bias=True)\n",
       "          (norm1): LayerNorm((1024,), eps=1e-05, elementwise_affine=True)\n",
       "          (norm2): LayerNorm((1024,), eps=1e-05, elementwise_affine=True)\n",
       "          (norm3): LayerNorm((1024,), eps=1e-05, elementwise_affine=True)\n",
       "          (dropout1): Dropout(p=0.1, inplace=False)\n",
       "          (dropout2): Dropout(p=0.1, inplace=False)\n",
       "          (dropout3): Dropout(p=0.1, inplace=False)\n",
       "        )\n",
       "      )\n",
       "    )\n",
       "    (embeddings): Embedding(128, 1024)\n",
       "    (posEmb): PositionalEmbedding()\n",
       "  )\n",
       "  (fcOut): Linear(in_features=1024, out_features=113, bias=True)\n",
       "  (softmax): Softmax(dim=-1)\n",
       ")"
      ]
     },
     "execution_count": 11,
     "metadata": {},
     "output_type": "execute_result"
    }
   ],
   "source": [
    "model = Model(patchDims= patchDims, batchSize= batchSize,\n",
    "\t\t\t  nHeads= nHeads, nLayers= nLayers, ffDim= ffDim, \n",
    "\t\t\t  dModel= resnetOutputChannels, numPatches= numPatches, \n",
    "\t\t\t  maxSeqLen= maxSeqLen, vocabSize= vocabSize,\n",
    "\t\t\t  dropout= dropout)\n",
    "model.to(device= device)"
   ]
  },
  {
   "cell_type": "code",
   "execution_count": 12,
   "id": "70b3b182",
   "metadata": {},
   "outputs": [
    {
     "data": {
      "text/plain": [
       "=====================================================================================================================================================================\n",
       "Layer (type (var_name))                                           Input Shape               Output Shape              Param #                   Trainable\n",
       "=====================================================================================================================================================================\n",
       "Model (Model)                                                     [16, 3, 256, 256]         [16, 128, 113]            --                        Partial\n",
       "├─FeatureExtractor (featEx)                                       [16, 3, 256, 256]         [16, 1024, 64]            --                        Partial\n",
       "│    └─Sequential (featEx)                                        [16, 3, 256, 256]         [16, 1024, 16, 16]        --                        False\n",
       "│    │    └─Conv2d (0)                                            [16, 3, 256, 256]         [16, 64, 128, 128]        (9,408)                   False\n",
       "│    │    └─BatchNorm2d (1)                                       [16, 64, 128, 128]        [16, 64, 128, 128]        (128)                     False\n",
       "│    │    └─ReLU (2)                                              [16, 64, 128, 128]        [16, 64, 128, 128]        --                        --\n",
       "│    │    └─MaxPool2d (3)                                         [16, 64, 128, 128]        [16, 64, 64, 64]          --                        --\n",
       "│    │    └─Sequential (4)                                        [16, 64, 64, 64]          [16, 256, 64, 64]         (215,808)                 False\n",
       "│    │    └─Sequential (5)                                        [16, 256, 64, 64]         [16, 512, 32, 32]         (1,219,584)               False\n",
       "│    │    └─Sequential (6)                                        [16, 512, 32, 32]         [16, 1024, 16, 16]        (7,098,368)               False\n",
       "│    └─Conv2d (convProj)                                          [16, 1024, 16, 16]        [16, 1024, 8, 8]          4,195,328                 True\n",
       "├─VisionEncoder (visEnc)                                          [16, 1024, 64]            [16, 64, 1024]            65,536                    True\n",
       "│    └─TransformerEncoder (transformerEncoder)                    [16, 64, 1024]            [16, 64, 1024]            --                        True\n",
       "│    │    └─ModuleList (layers)                                   --                        --                        25,206,784                True\n",
       "├─Decoder (decoder)                                               [16, 128]                 [16, 128, 1024]           --                        True\n",
       "│    └─Embedding (embeddings)                                     [16, 128]                 [16, 128, 1024]           131,072                   True\n",
       "│    └─PositionalEmbedding (posEmb)                               [128]                     [128, 1024]               --                        --\n",
       "│    └─TransformerDecoder (transformerDecoder)                    --                        [16, 128, 1024]           --                        True\n",
       "│    │    └─ModuleList (layers)                                   --                        --                        42,008,576                True\n",
       "├─Linear (fcOut)                                                  [16, 128, 1024]           [16, 128, 113]            115,825                   True\n",
       "=====================================================================================================================================================================\n",
       "Total params: 80,266,417\n",
       "Trainable params: 71,723,121\n",
       "Non-trainable params: 8,543,296\n",
       "Total mult-adds (Units.GIGABYTES): 72.94\n",
       "=====================================================================================================================================================================\n",
       "Input size (MB): 12.60\n",
       "Forward/backward pass size (MB): 3869.00\n",
       "Params size (MB): 85.63\n",
       "Estimated Total Size (MB): 3967.23\n",
       "====================================================================================================================================================================="
      ]
     },
     "execution_count": 12,
     "metadata": {},
     "output_type": "execute_result"
    }
   ],
   "source": [
    "summary(\n",
    "    model,\n",
    "    input_data=[\n",
    "        torch.zeros(inputDims).to(device),  # src\n",
    "        torch.zeros((batchSize, maxSeqLen), dtype=torch.int64).to(device),  # tgt\n",
    "        torch.zeros((batchSize, maxSeqLen), dtype=torch.bool).to(device)   # tgt_padding_mask\n",
    "    ],\n",
    "    col_names=['input_size', 'output_size', 'num_params', 'trainable'],\n",
    "    row_settings=['var_names'],\n",
    "    verbose=0\n",
    ")"
   ]
  },
  {
   "cell_type": "markdown",
   "id": "93ba13e1",
   "metadata": {},
   "source": [
    "### Training loop"
   ]
  },
  {
   "cell_type": "code",
   "execution_count": 13,
   "id": "ce6e386d",
   "metadata": {},
   "outputs": [],
   "source": [
    "def generate_padding_mask(tgt, padTokenIdx = 0) -> torch.Tensor:\n",
    "\treturn (tgt == padTokenIdx)"
   ]
  },
  {
   "cell_type": "code",
   "execution_count": 14,
   "id": "04a94d2d",
   "metadata": {},
   "outputs": [
    {
     "name": "stdout",
     "output_type": "stream",
     "text": [
      "Starting epoch 5 of 5\n",
      "~~~~~~~~~~~~~~~~~~~~~~~~~\n",
      "Batch: 0; Loss: 0.70173; Acc.: 67.87%\n",
      "Batch: 100; Loss: 0.57740; Acc.: 68.16%\n",
      "Batch: 200; Loss: 0.69336; Acc.: 68.44%\n",
      "Batch: 300; Loss: 0.86009; Acc.: 68.67%\n",
      "Batch: 400; Loss: 0.96605; Acc.: 68.90%\n",
      "Batch: 500; Loss: 0.73565; Acc.: 69.07%\n",
      "Batch: 600; Loss: 0.97800; Acc.: 69.32%\n",
      "Batch: 700; Loss: 0.75101; Acc.: 69.51%\n",
      "Epoch: 5; Avg loss: 0.87458; Avg acc.: 68.81%\n"
     ]
    }
   ],
   "source": [
    "opt = torch.optim.Adam(model.parameters(), lr= lr)\n",
    "loss_fn = N.CrossEntropyLoss(ignore_index= tokenizer.vocab['[PAD]'])\n",
    "mca = MulticlassAccuracy()\n",
    "\n",
    "lr_schedule = {\n",
    "\t3 : 7e-5,\n",
    "\t6 : 5e-5,\n",
    "\t9 : 3e-5\n",
    "}\n",
    "\n",
    "for epoch in range(epochs):\n",
    "\n",
    "\tif(epoch in lr_schedule.keys()):\n",
    "\t\tfor g in opt.param_groups:\n",
    "\t\t\tg['lr'] = lr_schedule[epoch]\n",
    "\n",
    "\tclear_output(wait= True)\n",
    "\tprint(f\"Starting epoch {epoch + 1} of {epochs}\\n~~~~~~~~~~~~~~~~~~~~~~~~~\")\n",
    "\n",
    "\ttrainLoss = 0\n",
    "\ttrainAcc = 0\n",
    "\n",
    "\tfor idx, (src, tgt, eq, file) in enumerate(trainDataLoader):\n",
    "\t\tcurrBatchAcc = 0.\n",
    "\n",
    "\t\tsrc, token_ids = src.cuda(), tgt.cuda()\n",
    "\t\tpadding_mask = generate_padding_mask(tgt, tokenizer.vocab['[PAD]']).cuda()\n",
    "\n",
    "\t\ttarget_ids = torch.cat([token_ids[:,1:], \n",
    "\t\t\t\t\t\t  torch.zeros(batchSize,1, device= device).long()], 1)\n",
    "\t\t\n",
    "\t\tpreds = model(src, token_ids, tgt_padding_mask= padding_mask)\n",
    "\n",
    "\t\tloss = loss_fn(preds.view(-1, vocabSize), target_ids.view(-1))\n",
    "\n",
    "\t\topt.zero_grad()\n",
    "\t\tloss.backward()\n",
    "\t\topt.step()\n",
    "\n",
    "\t\tfor i in range(batchSize):\n",
    "\t\t\teos_token_idx = (token_ids[i] == tokenizer.vocab['[EOS]']).nonzero().item()\n",
    "\t\t\tmca.update(preds[i, : eos_token_idx].argmax(dim= -1), token_ids[i, 1 : eos_token_idx + 1])\n",
    "\t\t\tcurrBatchAcc += mca.compute()\n",
    "\t\t\n",
    "\t\tcurrBatchLoss = loss.detach().item()\n",
    "\t\tcurrBatchAcc /= batchSize\n",
    "\n",
    "\t\ttrainLoss += currBatchLoss\n",
    "\t\ttrainAcc += currBatchAcc\n",
    "\n",
    "\t\tif(idx % 100 == 0):\n",
    "\t\t\tprint(f\"Batch: {idx}; Loss: {currBatchLoss:0.5f}; Acc.: {currBatchAcc * 100:0.2f}%\")\n",
    "\n",
    "\ttrainLoss /= len(trainDataLoader)\n",
    "\ttrainAcc /= len(trainDataLoader)\n",
    "\tprint(f\"Epoch: {epoch + 1}; Avg loss: {trainLoss:0.5f}; Avg acc.: {trainAcc * 100:0.2f}%\")"
   ]
  },
  {
   "cell_type": "markdown",
   "id": "489dc6cd",
   "metadata": {},
   "source": [
    "### Testing"
   ]
  },
  {
   "cell_type": "code",
   "execution_count": 31,
   "id": "cc7cf432",
   "metadata": {},
   "outputs": [],
   "source": [
    "import itertools\n",
    "sample_idx = 15\n",
    "\n",
    "test_src, test_tgt, test_eq, test_file = next(itertools.islice(testDataLoader,\n",
    "                                                    sample_idx, None))\n",
    "\n",
    "test_input_tokens = torch.Tensor([[tokenizer.vocab['[SOS]']] +\n",
    "\t\t\t\t\t\t\t\t [tokenizer.vocab['[PAD]']] * (maxSeqLen - 1)] * 1).long().cuda()\n",
    "generated_eq = []\n",
    "\n",
    "model.eval()\n",
    "\n",
    "with torch.inference_mode():\n",
    "\ttest_src = test_src.cuda()\n",
    "\t\n",
    "\tfor i in range(maxSeqLen):\n",
    "\t\ttest_padding_mask = generate_padding_mask(test_input_tokens).cuda()\n",
    "\t\ttest_preds = model(test_src, test_input_tokens, test_padding_mask)\n",
    "\t\ttest_pred_tokens = test_preds[0,i].argmax(dim= -1)\n",
    "\n",
    "\t\tgenerated_eq.append(test_pred_tokens.item())\n",
    "\t\tif(test_pred_tokens.item() == tokenizer.vocab['[EOS]']):\n",
    "\t\t\tbreak\n",
    "\t\ttest_input_tokens[:,i+1] = test_pred_tokens.view(-1)\n",
    "\t\t\n"
   ]
  },
  {
   "cell_type": "code",
   "execution_count": 32,
   "id": "bc7891ef",
   "metadata": {},
   "outputs": [
    {
     "name": "stderr",
     "output_type": "stream",
     "text": [
      "Clipping input data to the valid range for imshow with RGB data ([0..1] for floats or [0..255] for integers). Got range [0.21706706..1.0000002].\n"
     ]
    },
    {
     "data": {
      "image/png": "[encoded data removed]",
      "text/plain": [
       "<Figure size 640x480 with 1 Axes>"
      ]
     },
     "metadata": {},
     "output_type": "display_data"
    }
   ],
   "source": [
    "foo: np.ndarray = test_src[0].cpu().numpy()\n",
    "foo = foo.transpose(1,2,0)\n",
    "plt.imshow(foo)\n",
    "plt.show()"
   ]
  },
  {
   "cell_type": "code",
   "execution_count": 33,
   "id": "4fb16b19",
   "metadata": {},
   "outputs": [
    {
     "data": {
      "text/plain": [
       "tensor([ 81, 109,  87, 111,  70, 111,  44, 110,  11, 111,  78, 101,  79, 111,\n",
       "          6, 111,  44, 110,  11, 111,  78,  76,  79, 109, 112,   0,   0,   0,\n",
       "          0,   0,   0,   0,   0,   0,   0,   0,   0,   0,   0,   0,   0,   0,\n",
       "          0,   0,   0,   0,   0,   0,   0,   0,   0,   0,   0,   0,   0,   0,\n",
       "          0,   0,   0,   0,   0,   0,   0,   0,   0,   0,   0,   0,   0,   0,\n",
       "          0,   0,   0,   0,   0,   0,   0,   0,   0,   0,   0,   0,   0,   0,\n",
       "          0,   0,   0,   0,   0,   0,   0,   0,   0,   0,   0,   0,   0,   0,\n",
       "          0,   0,   0,   0,   0,   0,   0,   0,   0,   0,   0,   0,   0,   0,\n",
       "          0,   0,   0,   0,   0,   0,   0,   0,   0,   0,   0,   0,   0,   0,\n",
       "          0,   0])"
      ]
     },
     "execution_count": 33,
     "metadata": {},
     "output_type": "execute_result"
    }
   ],
   "source": [
    "test_tgt[0]"
   ]
  },
  {
   "cell_type": "code",
   "execution_count": 34,
   "id": "5dffe37a",
   "metadata": {},
   "outputs": [
    {
     "data": {
      "text/plain": [
       "('$f \\\\rightarrow \\\\cos^2 \\\\{t\\\\} - \\\\cos^2 \\\\{\\\\theta\\\\}$',)"
      ]
     },
     "execution_count": 34,
     "metadata": {},
     "output_type": "execute_result"
    }
   ],
   "source": [
    "test_eq"
   ]
  },
  {
   "cell_type": "code",
   "execution_count": 35,
   "id": "6265c0c0",
   "metadata": {},
   "outputs": [
    {
     "data": {
      "text/plain": [
       "tensor([109, 105, 111,  19, 111,  49,  78,   6,  83, 111,  68, 111,  73,  78,\n",
       "         83, 110,  11, 111,   6,  13,  82,  84,  79,  79,  78,  11,  82,  79,\n",
       "        109, 112])"
      ]
     },
     "execution_count": 35,
     "metadata": {},
     "output_type": "execute_result"
    }
   ],
   "source": [
    "torch.Tensor(generated_eq).long()"
   ]
  },
  {
   "cell_type": "code",
   "execution_count": 36,
   "id": "3e2dca65",
   "metadata": {},
   "outputs": [
    {
     "name": "stdout",
     "output_type": "stream",
     "text": [
      "$x = \\frac\\{-b \\pm \\sqrt\\{b^2 -4ac\\}\\}\\{2a\\}$\n"
     ]
    }
   ],
   "source": [
    "generated_tokens = tokenizer.idsToTokens(generated_eq)[:-1]\n",
    "eq_str = \"\"\n",
    "for token in generated_tokens:\n",
    "\teq_str = eq_str + token\n",
    "print(eq_str)"
   ]
  },
  {
   "cell_type": "code",
   "execution_count": 22,
   "id": "ff06d6e6",
   "metadata": {},
   "outputs": [],
   "source": [
    "torch.save(model, MODEL_SAVEFILE_PATH)"
   ]
  }
 ],
 "metadata": {
  "kernelspec": {
   "display_name": "pytorch-basics",
   "language": "python",
   "name": "python3"
  },
  "language_info": {
   "codemirror_mode": {
    "name": "ipython",
    "version": 3
   },
   "file_extension": ".py",
   "mimetype": "text/x-python",
   "name": "python",
   "nbconvert_exporter": "python",
   "pygments_lexer": "ipython3",
   "version": "3.12.5"
  }
 },
 "nbformat": 4,
 "nbformat_minor": 5
}
